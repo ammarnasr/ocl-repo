{
  "nbformat": 4,
  "nbformat_minor": 0,
  "metadata": {
    "colab": {
      "name": "colab_svhn_raw_notebook.ipynb",
      "provenance": [],
      "collapsed_sections": []
    },
    "kernelspec": {
      "name": "python3",
      "display_name": "Python 3"
    },
    "language_info": {
      "name": "python"
    },
    "accelerator": "GPU"
  },
  "cells": [
    {
      "cell_type": "code",
      "source": [
        "!nvidia-smi"
      ],
      "metadata": {
        "id": "tUqEw2nEG_5T"
      },
      "execution_count": null,
      "outputs": []
    },
    {
      "cell_type": "code",
      "source": [
        "!pip -q install --upgrade --no-cache-dir gdown\n",
        "\n",
        "!gdown --id 1u8YWaFkSrZA8VuAJdbsOVzXS9PauMjtL #KASAMI\n",
        "!gdown --id 1tZtIiv7pg1JCxN9lfiMeHzytnR8Dt1B1 #VGG_16\n",
        "\n",
        "!gdown --id 1oJxZzBskBd9Y6a2uHzMZOYqZWCUpniwU #svhn_custome_dataset\n",
        "!gdown --id 1DxNYwtEGOdu7L_sh2vcMgthkamLmGrZ- #train.py\n",
        "!gdown --id 15CFOXMlwCuFR8jltOK9gOztTQuvNQu21 #test.py\n",
        "!gdown --id 1WZ8_iOzyp2SSMQYQQ61VktIZrGds6Gnj #custome_test.py\n",
        "\n",
        "!mkdir org_data\n",
        "!mkdir models\n",
        "\n",
        "# !wget http://ufldl.stanford.edu/housenumbers/train.tar.gz\n",
        "# !mv train.tar.gz /content/org_data/\n",
        "# !tar -xf /content/org_data/train.tar.gz -C /content/org_data/\n",
        "\n",
        "!wget -q http://ufldl.stanford.edu/housenumbers/test.tar.gz\n",
        "!mv test.tar.gz /content/org_data/\n",
        "!tar -xf /content/org_data/test.tar.gz -C /content/org_data/\n",
        "!rm /content/org_data/test.tar.gz\n",
        "\n",
        "# !wget http://ufldl.stanford.edu/housenumbers/extra.tar.gz\n",
        "# !mv extra.tar.gz /content/org_data/\n",
        "# !tar -xf /content/org_data/extra.tar.gz -C /content/org_data/\n"
      ],
      "metadata": {
        "id": "s-rNm_pGEavU"
      },
      "execution_count": null,
      "outputs": []
    },
    {
      "cell_type": "code",
      "source": [
        "# !mv /content/VGG16_0.0001_SVHN_True.pt /content/models\n",
        "# !mv /content/VGG16_0.0001_SVHN_False.pt /content/models"
      ],
      "metadata": {
        "id": "P9wjtzxy4kGd"
      },
      "execution_count": null,
      "outputs": []
    },
    {
      "cell_type": "code",
      "source": [
        "!python train.py 1 25"
      ],
      "metadata": {
        "id": "R9achguCCMhR"
      },
      "execution_count": null,
      "outputs": []
    },
    {
      "cell_type": "code",
      "execution_count": null,
      "metadata": {
        "id": "oqr6ZRIlmSPG"
      },
      "outputs": [],
      "source": [
        "c!python train.py 0 25"
      ]
    },
    {
      "cell_type": "code",
      "source": [
        "!cp /content/models/VGG16_0.0001_SVHN_True.pt /content/drive/MyDrive/OCL\n",
        "!cp /content/models/VGG16_0.0001_SVHN_False.pt /content/drive/MyDrive/OCL"
      ],
      "metadata": {
        "id": "dtxZOW8esrYl"
      },
      "execution_count": null,
      "outputs": []
    },
    {
      "cell_type": "code",
      "source": [
        "!python test.py models/VGG16_0.0001_SVHN_True.pt"
      ],
      "metadata": {
        "id": "ljypn-wam-PP"
      },
      "execution_count": null,
      "outputs": []
    },
    {
      "cell_type": "code",
      "source": [
        "!python test.py models/VGG16_0.0001_SVHN_False.pt"
      ],
      "metadata": {
        "id": "x-JSS3shBW9s"
      },
      "execution_count": null,
      "outputs": []
    },
    {
      "cell_type": "code",
      "source": [
        "!python test_custome.py models/VGG16_0.0001_SVHN_True.pt"
      ],
      "metadata": {
        "id": "EH6u3NJcDRuL"
      },
      "execution_count": null,
      "outputs": []
    },
    {
      "cell_type": "code",
      "source": [
        "!python test_custome.py models/VGG16_0.0001_SVHN_False.pt"
      ],
      "metadata": {
        "id": "J8KhhHpHGF4O"
      },
      "execution_count": null,
      "outputs": []
    },
    {
      "cell_type": "code",
      "source": [
        "dataloader = DataLoader(x, batch_size=4, shuffle=True, num_workers=0)\n",
        "\n",
        "\n",
        "# Helper function to show a batch\n",
        "\n",
        "def showimg(sample):\n",
        "    img = sample['image'][0]\n",
        "    # meta_data = sample['b_box']\n",
        "    # n_label = len(meta_data['label'])\n",
        "    # for i in range(n_label):\n",
        "    #   x_min = meta_data['left'][i]\n",
        "    #   y_min = meta_data['top'][i]\n",
        "    #   x_max = meta_data['width'][i] + x_min\n",
        "    #   y_max = meta_data['height'][i] + y_min\n",
        "    #   cv2.rectangle(img,(x_min,y_min),(x_max,y_max),(0,255,0),1)\n",
        "    plt.imshow( torch.permute(img, (1, 2, 0)))\n",
        "    print('=====================', sample['labels'][0])\n",
        "\n",
        "\n",
        "for i_batch, sample_batched in enumerate(dataloader):\n",
        "    # print(i_batch, sample_batched['image'].size(), sample_batched['labels'].size())\n",
        "\n",
        "    # observe 4th batch and stop.\n",
        "    if i_batch == 4:\n",
        "        plt.figure()\n",
        "        showimg(sample_batched)\n",
        "        plt.axis('off')\n",
        "        plt.ioff()\n",
        "        plt.show()\n",
        "        break\n",
        "    if i_batch == 4:\n",
        "      break"
      ],
      "metadata": {
        "id": "D9QQ5fIxGwin"
      },
      "execution_count": null,
      "outputs": []
    }
  ]
}