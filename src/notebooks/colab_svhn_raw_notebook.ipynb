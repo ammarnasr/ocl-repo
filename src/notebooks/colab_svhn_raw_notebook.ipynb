{
  "cells": [
    {
      "cell_type": "code",
      "execution_count": 9,
      "metadata": {},
      "outputs": [
        {
          "name": "stdout",
          "output_type": "stream",
          "text": [
            "Extracting org_data/test.tar.gz...\n",
            "Extraction Finished\n"
          ]
        }
      ],
      "source": [
        "#Extract .tar.gz files\n",
        "\n",
        "import os\n",
        "import tarfile\n",
        "\n",
        "data_dir = 'org_data/'\n",
        "train_file   = data_dir + 'train.tar.gz'\n",
        "test_file  = data_dir + 'test.tar.gz'\n",
        "extra_file = data_dir + 'extra.tar.gz'\n",
        "\n",
        "train_file = extra_file\n",
        "\n",
        "if os.path.isfile(train_file):\n",
        "    print('Extracting ' + train_file + '...')\n",
        "    tar = tarfile.open(train_file)\n",
        "    tar.extractall(data_dir)\n",
        "    tar.close()\n",
        "    print('Extraction Finished')\n"
      ]
    },
    {
      "cell_type": "code",
      "execution_count": 10,
      "metadata": {
        "id": "R9achguCCMhR"
      },
      "outputs": [
        {
          "name": "stdout",
          "output_type": "stream",
          "text": [
            "^C\n"
          ]
        }
      ],
      "source": [
        "!python train.py 1 25"
      ]
    },
    {
      "cell_type": "code",
      "execution_count": null,
      "metadata": {
        "id": "oqr6ZRIlmSPG"
      },
      "outputs": [],
      "source": [
        "!python train.py 0 25"
      ]
    },
    {
      "cell_type": "code",
      "execution_count": null,
      "metadata": {
        "id": "dtxZOW8esrYl"
      },
      "outputs": [],
      "source": [
        "!cp /content/models/VGG16_0.0001_SVHN_True.pt /content/drive/MyDrive/OCL\n",
        "!cp /content/models/VGG16_0.0001_SVHN_False.pt /content/drive/MyDrive/OCL"
      ]
    },
    {
      "cell_type": "code",
      "execution_count": null,
      "metadata": {
        "id": "ljypn-wam-PP"
      },
      "outputs": [],
      "source": [
        "!python test.py models/VGG16_0.0001_SVHN_True.pt"
      ]
    },
    {
      "cell_type": "code",
      "execution_count": null,
      "metadata": {
        "id": "x-JSS3shBW9s"
      },
      "outputs": [],
      "source": [
        "!python test.py models/VGG16_0.0001_SVHN_False.pt"
      ]
    },
    {
      "cell_type": "code",
      "execution_count": null,
      "metadata": {
        "id": "EH6u3NJcDRuL"
      },
      "outputs": [],
      "source": [
        "!python test_custome.py models/VGG16_0.0001_SVHN_True.pt"
      ]
    },
    {
      "cell_type": "code",
      "execution_count": null,
      "metadata": {
        "id": "J8KhhHpHGF4O"
      },
      "outputs": [],
      "source": [
        "!python test_custome.py models/VGG16_0.0001_SVHN_False.pt"
      ]
    },
    {
      "cell_type": "code",
      "execution_count": null,
      "metadata": {
        "id": "D9QQ5fIxGwin"
      },
      "outputs": [],
      "source": [
        "dataloader = DataLoader(x, batch_size=4, shuffle=True, num_workers=0)\n",
        "\n",
        "\n",
        "# Helper function to show a batch\n",
        "\n",
        "def showimg(sample):\n",
        "    img = sample['image'][0]\n",
        "    # meta_data = sample['b_box']\n",
        "    # n_label = len(meta_data['label'])\n",
        "    # for i in range(n_label):\n",
        "    #   x_min = meta_data['left'][i]\n",
        "    #   y_min = meta_data['top'][i]\n",
        "    #   x_max = meta_data['width'][i] + x_min\n",
        "    #   y_max = meta_data['height'][i] + y_min\n",
        "    #   cv2.rectangle(img,(x_min,y_min),(x_max,y_max),(0,255,0),1)\n",
        "    plt.imshow( torch.permute(img, (1, 2, 0)))\n",
        "    print('=====================', sample['labels'][0])\n",
        "\n",
        "\n",
        "for i_batch, sample_batched in enumerate(dataloader):\n",
        "    # print(i_batch, sample_batched['image'].size(), sample_batched['labels'].size())\n",
        "\n",
        "    # observe 4th batch and stop.\n",
        "    if i_batch == 4:\n",
        "        plt.figure()\n",
        "        showimg(sample_batched)\n",
        "        plt.axis('off')\n",
        "        plt.ioff()\n",
        "        plt.show()\n",
        "        break\n",
        "    if i_batch == 4:\n",
        "      break"
      ]
    }
  ],
  "metadata": {
    "accelerator": "GPU",
    "colab": {
      "collapsed_sections": [],
      "name": "colab_svhn_raw_notebook.ipynb",
      "provenance": []
    },
    "kernelspec": {
      "display_name": "Python 3",
      "name": "python3"
    },
    "language_info": {
      "codemirror_mode": {
        "name": "ipython",
        "version": 3
      },
      "file_extension": ".py",
      "mimetype": "text/x-python",
      "name": "python",
      "nbconvert_exporter": "python",
      "pygments_lexer": "ipython3",
      "version": "3.9.16"
    }
  },
  "nbformat": 4,
  "nbformat_minor": 0
}
