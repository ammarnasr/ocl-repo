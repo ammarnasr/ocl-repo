{
 "cells": [
  {
   "cell_type": "markdown",
   "metadata": {},
   "source": [
    "## Training :"
   ]
  },
  {
   "cell_type": "code",
   "execution_count": null,
   "metadata": {},
   "outputs": [],
   "source": [
    "import train\n",
    "import torch\n",
    "import utils\n",
    "\n",
    "use_svhn = False\n",
    "valid_size = 0.5\n",
    "valid_shuffle = True\n",
    "batch_size = 32\n",
    "epochs = 10\n",
    "learning_rate = 0.01\n",
    "OCL_sw = True\n",
    "alpha = 0.5\n",
    "seed = None\n",
    "device = torch.device(\"cuda:0\" if torch.cuda.is_available() else \"cpu\")\n",
    "save_interval = 100\n",
    "model_save_path = utils.get_model_save_path(use_svhn, OCL_sw)\n",
    "\n",
    "\n",
    "train.main(\n",
    "    use_svhn=use_svhn,\n",
    "    valid_size=valid_size,\n",
    "    valid_shuffle=valid_shuffle,\n",
    "    batch_size=batch_size,\n",
    "    epochs=epochs,\n",
    "    learning_rate=learning_rate,\n",
    "    OCL_sw=OCL_sw,\n",
    "    alpha=alpha,\n",
    "    seed=seed,\n",
    "    device=device,\n",
    "    model_save_path=model_save_path,\n",
    "    save_interval=save_interval\n",
    "    )"
   ]
  },
  {
   "attachments": {},
   "cell_type": "markdown",
   "metadata": {},
   "source": [
    "## Evaluation :"
   ]
  },
  {
   "cell_type": "code",
   "execution_count": null,
   "metadata": {},
   "outputs": [],
   "source": [
    "import torch\n",
    "import test\n",
    "import utils\n",
    "import pandas as pd\n",
    "use_svhn_options = [True, False]\n",
    "OCL_sw_options = [True, False]\n",
    "overlap_options = [0, 0.25, 0.5, 0.75, 1]\n",
    "batch_size_test = 1024\n",
    "device = torch.device(\"cuda:0\" if torch.cuda.is_available() else \"cpu\")"
   ]
  },
  {
   "cell_type": "code",
   "execution_count": null,
   "metadata": {},
   "outputs": [],
   "source": [
    "results_dict = {\n",
    "    'use_svhn': [],\n",
    "    'OCL_sw': [],\n",
    "    'test_accuracy': []\n",
    "}\n",
    "\n",
    "for use_svhn in use_svhn_options:\n",
    "    test_set = utils.initialize_dataset('test', use_svhn)\n",
    "    loader_test = torch.utils.data.DataLoader(test_set, batch_size=batch_size_test)\n",
    "    for OCL_sw in OCL_sw_options:\n",
    "        network = utils.initialize_network(use_svhn, OCL_sw, device=device)\n",
    "        model_save_path = utils.get_model_save_path(use_svhn, OCL_sw)\n",
    "        network = utils.load_checkpoint_to_model(network, model_save_path, device=device)\n",
    "\n",
    "\n",
    "        test_accuracy = test.evaluate_model(network, loader_test, device)\n",
    "        results_dict['use_svhn'].append(use_svhn)\n",
    "        results_dict['OCL_sw'].append(OCL_sw)\n",
    "        results_dict['test_accuracy'].append(test_accuracy)\n",
    "\n",
    "results_df = pd.DataFrame(results_dict)\n",
    "results_df.to_csv('test_results.csv', index=False)\n",
    "\n",
    "\n"
   ]
  },
  {
   "cell_type": "code",
   "execution_count": null,
   "metadata": {},
   "outputs": [],
   "source": [
    "\n",
    "results_dict = {\n",
    "    'use_svhn': [],\n",
    "    'OCL_sw': [],\n",
    "    'overlap': [],\n",
    "    'test_accuracy': []\n",
    "}\n",
    "\n",
    "\n",
    "for use_svhn in use_svhn_options:\n",
    "    test_set = utils.initialize_dataset('test', use_svhn)\n",
    "    loader_test = torch.utils.data.DataLoader(test_set, batch_size=batch_size_test)\n",
    "    for OCL_sw in OCL_sw_options:\n",
    "        network = utils.initialize_network(use_svhn, OCL_sw, device=device)\n",
    "        model_save_path = utils.get_model_save_path(use_svhn, OCL_sw)\n",
    "        network = utils.load_checkpoint_to_model(network, model_save_path, device=device)\n",
    "        for overlap in overlap_options:\n",
    "            test_accuracy = test.evaluate_model_with_overlap(network, loader_test, device, overlap)\n",
    "            results_dict['use_svhn'].append(use_svhn)\n",
    "            results_dict['OCL_sw'].append(OCL_sw)\n",
    "            results_dict['overlap'].append(overlap)\n",
    "            results_dict['test_accuracy'].append(test_accuracy)\n",
    "\n",
    "results_df = pd.DataFrame(results_dict)\n",
    "results_df.to_csv('test_results_overlap.csv', index=False)"
   ]
  },
  {
   "attachments": {},
   "cell_type": "markdown",
   "metadata": {},
   "source": [
    "## Visualization :"
   ]
  },
  {
   "cell_type": "code",
   "execution_count": null,
   "metadata": {},
   "outputs": [],
   "source": [
    "import torch\n",
    "import test\n",
    "import utils\n",
    "import pandas as pd\n",
    "import vis\n",
    "\n",
    "def plot_representations(use_svhn, ocl_sw, n_samples, device, batch_size_test=1024, step=None):\n",
    "    models_save_dir = './models/'\n",
    "    fig_save_dir = './figures/'\n",
    "    dataset_name = 'SVHN' if use_svhn else 'MNIST'\n",
    "    model_tag = 'OCL' if OCL_sw else 'NoOCL'\n",
    "    base_name = f'{dataset_name}_{model_tag}'\n",
    "    if step is None:\n",
    "        model_save_path = f'{models_save_dir}{base_name}.pt'\n",
    "        fig_save_path = f'{fig_save_dir}{base_name}.png'\n",
    "        title = f'{dataset_name} {model_tag}'\n",
    "    else:\n",
    "        model_save_path = f'{models_save_dir}{base_name}_{step}.pt'\n",
    "        fig_save_path = f'{fig_save_dir}{base_name}_{step}.png'\n",
    "        title = f'VGG16 with {model_tag} @ {step}'\n",
    "        \n",
    "    test_set = utils.initialize_dataset('test', use_svhn)\n",
    "    loader_test = torch.utils.data.DataLoader(test_set, batch_size=batch_size_test)\n",
    "    network = utils.initialize_network(use_svhn, ocl_sw, device=device)\n",
    "    network = utils.load_checkpoint_to_model(network, model_save_path, device=device)\n",
    "    representations, labels = vis.get_representations(network, loader_test, device=device, num_samples=n_samples)\n",
    "    vis.plot_representations_tsne_2d(representations, labels, title=title, show=True, save_path=fig_save_path)\n"
   ]
  },
  {
   "cell_type": "code",
   "execution_count": null,
   "metadata": {},
   "outputs": [],
   "source": [
    "OCL_sw = True\n",
    "use_svhn = False\n",
    "batch_size_test = 128\n",
    "n_samples = 6000\n",
    "device = torch.device(\"cuda:0\" if torch.cuda.is_available() else \"cpu\")\n",
    "steps = list(range(100, 3300, 100))\n",
    "for step in steps:\n",
    "    plot_representations(use_svhn, OCL_sw, n_samples, device, batch_size_test=batch_size_test, step=step)"
   ]
  },
  {
   "cell_type": "code",
   "execution_count": null,
   "metadata": {},
   "outputs": [],
   "source": [
    "# create gif from images\n",
    "import imageio\n",
    "import os\n",
    "import glob\n",
    "\n",
    "def create_gif(gif_name, path, duration=0.5):\n",
    "    frames = []\n",
    "    png_files = glob.glob(os.path.join(path, '*.png'))\n",
    "    png_files.sort(key=os.path.getmtime)\n",
    "    for file_name in png_files:\n",
    "        frames.append(imageio.imread(file_name))\n",
    "    imageio.mimsave(gif_name, frames, 'GIF', duration=duration)\n",
    "\n",
    "gif_name = 'MNIST_OCL.gif'\n",
    "path = './figures/'\n",
    "create_gif(gif_name, path, duration=350)"
   ]
  },
  {
   "cell_type": "code",
   "execution_count": null,
   "metadata": {},
   "outputs": [],
   "source": []
  }
 ],
 "metadata": {
  "kernelspec": {
   "display_name": "amazon",
   "language": "python",
   "name": "python3"
  },
  "language_info": {
   "codemirror_mode": {
    "name": "ipython",
    "version": 3
   },
   "file_extension": ".py",
   "mimetype": "text/x-python",
   "name": "python",
   "nbconvert_exporter": "python",
   "pygments_lexer": "ipython3",
   "version": "3.9.16"
  },
  "orig_nbformat": 4
 },
 "nbformat": 4,
 "nbformat_minor": 2
}
